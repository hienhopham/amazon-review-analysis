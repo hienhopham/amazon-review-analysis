{
 "cells": [
  {
   "cell_type": "code",
   "execution_count": 21,
   "id": "909be820",
   "metadata": {},
   "outputs": [],
   "source": [
    "import pandas as pd\n",
    "import numpy as np\n",
    "import matplotlib.pyplot as plt\n",
    "import warnings\n",
    "warnings.filterwarnings(\"ignore\")\n",
    "import seaborn as sns\n",
    "\n",
    "reviews_data = pd.read_csv(\"kindle_reviews.csv\")\n",
    "reviews_data.drop(['Unnamed: 0','unixReviewTime', 'reviewTime', 'reviewerName', 'summary'], axis=1, inplace=True)\n"
   ]
  },
  {
   "cell_type": "code",
   "execution_count": 22,
   "id": "f6a43d6a",
   "metadata": {},
   "outputs": [],
   "source": [
    "reviews_data.dropna(axis=0, inplace=True)"
   ]
  },
  {
   "cell_type": "code",
   "execution_count": 23,
   "id": "cb2d9d4b",
   "metadata": {},
   "outputs": [],
   "source": [
    "import re\n",
    "reviews_data['helpful_votes'] = reviews_data['helpful'].apply(lambda x: re.sub(\"[\\[\\]]\", \"\", x).split(\",\")[0])\n",
    "reviews_data['total_votes'] = reviews_data['helpful'].apply(lambda x: re.sub(\"[\\[\\]]\", \"\", x).split(\",\")[1])\n",
    "reviews_data[\"helpful_votes\"] = pd.to_numeric(reviews_data[\"helpful_votes\"])\n",
    "reviews_data[\"total_votes\"] = pd.to_numeric(reviews_data[\"total_votes\"])\n",
    "reviews_data.loc[:, 'is_helpful'] = np.where(reviews_data.loc[:, 'helpful_votes'] \\\n",
    "                                 / reviews_data.loc[:, 'total_votes'] > 0.5, 1, 0)"
   ]
  },
  {
   "cell_type": "code",
   "execution_count": 24,
   "id": "e907a666",
   "metadata": {},
   "outputs": [
    {
     "data": {
      "text/html": [
       "<div>\n",
       "<style scoped>\n",
       "    .dataframe tbody tr th:only-of-type {\n",
       "        vertical-align: middle;\n",
       "    }\n",
       "\n",
       "    .dataframe tbody tr th {\n",
       "        vertical-align: top;\n",
       "    }\n",
       "\n",
       "    .dataframe thead th {\n",
       "        text-align: right;\n",
       "    }\n",
       "</style>\n",
       "<table border=\"1\" class=\"dataframe\">\n",
       "  <thead>\n",
       "    <tr style=\"text-align: right;\">\n",
       "      <th></th>\n",
       "      <th>overall</th>\n",
       "      <th>helpful_votes</th>\n",
       "      <th>total_votes</th>\n",
       "      <th>is_helpful</th>\n",
       "    </tr>\n",
       "  </thead>\n",
       "  <tbody>\n",
       "    <tr>\n",
       "      <th>count</th>\n",
       "      <td>982597.000000</td>\n",
       "      <td>982597.000000</td>\n",
       "      <td>982597.00000</td>\n",
       "      <td>982597.000000</td>\n",
       "    </tr>\n",
       "    <tr>\n",
       "      <th>mean</th>\n",
       "      <td>4.347792</td>\n",
       "      <td>1.117625</td>\n",
       "      <td>1.36931</td>\n",
       "      <td>0.366152</td>\n",
       "    </tr>\n",
       "    <tr>\n",
       "      <th>std</th>\n",
       "      <td>0.955061</td>\n",
       "      <td>5.545321</td>\n",
       "      <td>6.08442</td>\n",
       "      <td>0.481752</td>\n",
       "    </tr>\n",
       "    <tr>\n",
       "      <th>min</th>\n",
       "      <td>1.000000</td>\n",
       "      <td>0.000000</td>\n",
       "      <td>0.00000</td>\n",
       "      <td>0.000000</td>\n",
       "    </tr>\n",
       "    <tr>\n",
       "      <th>25%</th>\n",
       "      <td>4.000000</td>\n",
       "      <td>0.000000</td>\n",
       "      <td>0.00000</td>\n",
       "      <td>0.000000</td>\n",
       "    </tr>\n",
       "    <tr>\n",
       "      <th>50%</th>\n",
       "      <td>5.000000</td>\n",
       "      <td>0.000000</td>\n",
       "      <td>0.00000</td>\n",
       "      <td>0.000000</td>\n",
       "    </tr>\n",
       "    <tr>\n",
       "      <th>75%</th>\n",
       "      <td>5.000000</td>\n",
       "      <td>1.000000</td>\n",
       "      <td>1.00000</td>\n",
       "      <td>1.000000</td>\n",
       "    </tr>\n",
       "    <tr>\n",
       "      <th>max</th>\n",
       "      <td>5.000000</td>\n",
       "      <td>2350.000000</td>\n",
       "      <td>2537.00000</td>\n",
       "      <td>1.000000</td>\n",
       "    </tr>\n",
       "  </tbody>\n",
       "</table>\n",
       "</div>"
      ],
      "text/plain": [
       "             overall  helpful_votes   total_votes     is_helpful\n",
       "count  982597.000000  982597.000000  982597.00000  982597.000000\n",
       "mean        4.347792       1.117625       1.36931       0.366152\n",
       "std         0.955061       5.545321       6.08442       0.481752\n",
       "min         1.000000       0.000000       0.00000       0.000000\n",
       "25%         4.000000       0.000000       0.00000       0.000000\n",
       "50%         5.000000       0.000000       0.00000       0.000000\n",
       "75%         5.000000       1.000000       1.00000       1.000000\n",
       "max         5.000000    2350.000000    2537.00000       1.000000"
      ]
     },
     "execution_count": 24,
     "metadata": {},
     "output_type": "execute_result"
    }
   ],
   "source": [
    "reviews_data.describe()"
   ]
  },
  {
   "cell_type": "code",
   "execution_count": 65,
   "id": "0f5feb0d",
   "metadata": {},
   "outputs": [],
   "source": [
    "reviews_data_10 = reviews_data.loc[reviews_data['total_votes'] >= 10]"
   ]
  },
  {
   "cell_type": "code",
   "execution_count": 69,
   "id": "7f509384",
   "metadata": {},
   "outputs": [
    {
     "data": {
      "image/png": "[encoded data removed]",
      "text/plain": [
       "<Figure size 432x288 with 1 Axes>"
      ]
     },
     "metadata": {},
     "output_type": "display_data"
    }
   ],
   "source": [
    "labels = 'Unhelpful', 'Helpful'\n",
    "\n",
    "plt = reviews_data_10.groupby('is_helpful').count().plot(kind='pie', y='helpful', autopct='%1.0f%%', labels=labels, title=\"Distribution of helpful and unhelpful \\n in reviews that have more than 10 votes\")\n"
   ]
  },
  {
   "cell_type": "code",
   "execution_count": 67,
   "id": "a7b5127d",
   "metadata": {},
   "outputs": [],
   "source": [
    "df_helpful = reviews_data_10[reviews_data_10.is_helpful > 0]\n",
    "df_unhelpful = reviews_data_10[reviews_data_10.is_helpful < 1]\n",
    "df_helpful_count = df_helpful.groupby('overall').count()\n",
    "df_unhelpful_count = df_unhelpful.groupby('overall').count()\n",
    "df_count = pd.merge(df_helpful_count, df_unhelpful_count, how='inner', on = 'overall')\n",
    "df_count.rename(columns = {'reviewText_x':'helpful_reviews', 'reviewText_y':'unhelpful_reviews'}, inplace = True)"
   ]
  },
  {
   "cell_type": "code",
   "execution_count": 68,
   "id": "50831f44",
   "metadata": {},
   "outputs": [
    {
     "data": {
      "text/plain": [
       "Text(0.5, 1.0, 'Helpfulness by overall stars rate')"
      ]
     },
     "execution_count": 68,
     "metadata": {},
     "output_type": "execute_result"
    },
    {
     "data": {
      "image/png": "[encoded data removed]",
      "text/plain": [
       "<Figure size 432x288 with 1 Axes>"
      ]
     },
     "metadata": {
      "needs_background": "light"
     },
     "output_type": "display_data"
    }
   ],
   "source": [
    "fig = df_count.plot(kind='barh', y=['helpful_reviews','unhelpful_reviews'])\n",
    "fig.set_xlabel(\"Number of reviews\")\n",
    "fig.set_ylabel(\"Overall rate\")\n",
    "fig.set_title(\"Helpfulness by overall stars rate\")"
   ]
  }
 ],
 "metadata": {
  "kernelspec": {
   "display_name": "Python 3 (ipykernel)",
   "language": "python",
   "name": "python3"
  },
  "language_info": {
   "codemirror_mode": {
    "name": "ipython",
    "version": 3
   },
   "file_extension": ".py",
   "mimetype": "text/x-python",
   "name": "python",
   "nbconvert_exporter": "python",
   "pygments_lexer": "ipython3",
   "version": "3.9.6"
  }
 },
 "nbformat": 4,
 "nbformat_minor": 5
}
