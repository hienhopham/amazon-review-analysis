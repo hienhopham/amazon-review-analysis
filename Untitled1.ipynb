{
 "cells": [
  {
   "cell_type": "code",
   "execution_count": 1,
   "id": "58e8de53",
   "metadata": {},
   "outputs": [
    {
     "name": "stderr",
     "output_type": "stream",
     "text": [
      "22/06/01 15:03:38 WARN Utils: Your hostname, MacBook-Pro-cua-Pham.local resolves to a loopback address: 127.0.0.1; using 172.30.1.21 instead (on interface en0)\n",
      "22/06/01 15:03:38 WARN Utils: Set SPARK_LOCAL_IP if you need to bind to another address\n",
      "WARNING: An illegal reflective access operation has occurred\n",
      "WARNING: Illegal reflective access by org.apache.spark.unsafe.Platform (file:/usr/local/lib/python3.9/site-packages/pyspark/jars/spark-unsafe_2.12-3.1.2.jar) to constructor java.nio.DirectByteBuffer(long,int)\n",
      "WARNING: Please consider reporting this to the maintainers of org.apache.spark.unsafe.Platform\n",
      "WARNING: Use --illegal-access=warn to enable warnings of further illegal reflective access operations\n",
      "WARNING: All illegal access operations will be denied in a future release\n"
     ]
    },
    {
     "name": "stdout",
     "output_type": "stream",
     "text": [
      ":: loading settings :: url = jar:file:/usr/local/lib/python3.9/site-packages/pyspark/jars/ivy-2.4.0.jar!/org/apache/ivy/core/settings/ivysettings.xml\n"
     ]
    },
    {
     "name": "stderr",
     "output_type": "stream",
     "text": [
      "Ivy Default Cache set to: /Users/hienpham/.ivy2/cache\n",
      "The jars for the packages stored in: /Users/hienpham/.ivy2/jars\n",
      "com.johnsnowlabs.nlp#spark-nlp_2.12 added as a dependency\n",
      ":: resolving dependencies :: org.apache.spark#spark-submit-parent-a5f61745-428a-48ac-aa2c-d3e3e48ffaa7;1.0\n",
      "\tconfs: [default]\n",
      "\tfound com.johnsnowlabs.nlp#spark-nlp_2.12;3.4.3 in central\n",
      "\tfound com.typesafe#config;1.4.1 in central\n",
      "\tfound org.rocksdb#rocksdbjni;6.5.3 in central\n",
      "\tfound com.amazonaws#aws-java-sdk-bundle;1.11.603 in central\n",
      "\tfound com.github.universal-automata#liblevenshtein;3.0.0 in central\n",
      "\tfound com.google.code.findbugs#annotations;3.0.1 in central\n",
      "\tfound net.jcip#jcip-annotations;1.0 in central\n",
      "\tfound com.google.code.findbugs#jsr305;3.0.1 in central\n",
      "\tfound com.google.protobuf#protobuf-java-util;3.0.0-beta-3 in central\n",
      "\tfound com.google.protobuf#protobuf-java;3.0.0-beta-3 in central\n",
      "\tfound com.google.code.gson#gson;2.3 in central\n",
      "\tfound it.unimi.dsi#fastutil;7.0.12 in central\n",
      "\tfound org.projectlombok#lombok;1.16.8 in central\n",
      "\tfound org.slf4j#slf4j-api;1.7.21 in central\n",
      "\tfound com.navigamez#greex;1.0 in central\n",
      "\tfound dk.brics.automaton#automaton;1.11-8 in central\n",
      "\tfound org.json4s#json4s-ext_2.12;3.5.3 in central\n",
      "\tfound joda-time#joda-time;2.9.5 in central\n",
      "\tfound org.joda#joda-convert;1.8.1 in central\n",
      "\tfound com.johnsnowlabs.nlp#tensorflow-cpu_2.12;0.3.3 in central\n",
      "\tfound net.sf.trove4j#trove4j;3.0.3 in central\n",
      ":: resolution report :: resolve 496ms :: artifacts dl 17ms\n",
      "\t:: modules in use:\n",
      "\tcom.amazonaws#aws-java-sdk-bundle;1.11.603 from central in [default]\n",
      "\tcom.github.universal-automata#liblevenshtein;3.0.0 from central in [default]\n",
      "\tcom.google.code.findbugs#annotations;3.0.1 from central in [default]\n",
      "\tcom.google.code.findbugs#jsr305;3.0.1 from central in [default]\n",
      "\tcom.google.code.gson#gson;2.3 from central in [default]\n",
      "\tcom.google.protobuf#protobuf-java;3.0.0-beta-3 from central in [default]\n",
      "\tcom.google.protobuf#protobuf-java-util;3.0.0-beta-3 from central in [default]\n",
      "\tcom.johnsnowlabs.nlp#spark-nlp_2.12;3.4.3 from central in [default]\n",
      "\tcom.johnsnowlabs.nlp#tensorflow-cpu_2.12;0.3.3 from central in [default]\n",
      "\tcom.navigamez#greex;1.0 from central in [default]\n",
      "\tcom.typesafe#config;1.4.1 from central in [default]\n",
      "\tdk.brics.automaton#automaton;1.11-8 from central in [default]\n",
      "\tit.unimi.dsi#fastutil;7.0.12 from central in [default]\n",
      "\tjoda-time#joda-time;2.9.5 from central in [default]\n",
      "\tnet.jcip#jcip-annotations;1.0 from central in [default]\n",
      "\tnet.sf.trove4j#trove4j;3.0.3 from central in [default]\n",
      "\torg.joda#joda-convert;1.8.1 from central in [default]\n",
      "\torg.json4s#json4s-ext_2.12;3.5.3 from central in [default]\n",
      "\torg.projectlombok#lombok;1.16.8 from central in [default]\n",
      "\torg.rocksdb#rocksdbjni;6.5.3 from central in [default]\n",
      "\torg.slf4j#slf4j-api;1.7.21 from central in [default]\n",
      "\t---------------------------------------------------------------------\n",
      "\t|                  |            modules            ||   artifacts   |\n",
      "\t|       conf       | number| search|dwnlded|evicted|| number|dwnlded|\n",
      "\t---------------------------------------------------------------------\n",
      "\t|      default     |   21  |   0   |   0   |   0   ||   21  |   0   |\n",
      "\t---------------------------------------------------------------------\n",
      ":: retrieving :: org.apache.spark#spark-submit-parent-a5f61745-428a-48ac-aa2c-d3e3e48ffaa7\n",
      "\tconfs: [default]\n",
      "\t0 artifacts copied, 21 already retrieved (0kB/12ms)\n",
      "22/06/01 15:03:39 WARN NativeCodeLoader: Unable to load native-hadoop library for your platform... using builtin-java classes where applicable\n",
      "Using Spark's default log4j profile: org/apache/spark/log4j-defaults.properties\n",
      "Setting default log level to \"WARN\".\n",
      "To adjust logging level use sc.setLogLevel(newLevel). For SparkR, use setLogLevel(newLevel).\n",
      "22/06/01 15:03:41 WARN Utils: Service 'SparkUI' could not bind on port 4040. Attempting port 4041.\n"
     ]
    }
   ],
   "source": [
    "from pyspark.sql import SparkSession\n",
    "# start spark session configured for spark nlp\n",
    "spark = SparkSession.builder \\\n",
    "     .master('local[*]') \\\n",
    "     .appName('Spark NLPm') \\\n",
    "     .config('spark.jars.packages', \n",
    "             'com.johnsnowlabs.nlp:spark-nlp_2.12:3.4.3') \\\n",
    "     .getOrCreate()"
   ]
  },
  {
   "cell_type": "code",
   "execution_count": 11,
   "id": "f6b1041f",
   "metadata": {},
   "outputs": [],
   "source": [
    "from pyspark.sql.types import DoubleType, IntegerType\n",
    "from pyspark.sql.functions import col\n",
    "df = spark.read.option(\"header\", True).csv('scores.csv') \\\n",
    ".withColumn(\"score1\",col(\"score1\").cast(DoubleType()))\\\n",
    ".withColumn(\"score2\",col(\"score2\").cast(DoubleType()))\\\n",
    ".withColumn(\"result\",col(\"result\").cast(IntegerType()))"
   ]
  },
  {
   "cell_type": "code",
   "execution_count": 12,
   "id": "4dd855cd",
   "metadata": {},
   "outputs": [
    {
     "name": "stdout",
     "output_type": "stream",
     "text": [
      "root\n",
      " |-- score1: double (nullable = true)\n",
      " |-- score2: double (nullable = true)\n",
      " |-- result: integer (nullable = true)\n",
      " |-- features: vector (nullable = true)\n",
      "\n"
     ]
    }
   ],
   "source": [
    "from pyspark.ml.feature import VectorAssembler\n",
    "cols = [\"score1\", \"score2\"]\n",
    "assembler = VectorAssembler()\\\n",
    "  .setInputCols(cols)\\\n",
    "  .setOutputCol(\"features\")\n",
    "featureDf = assembler.transform(df)\n",
    "featureDf.printSchema()"
   ]
  },
  {
   "cell_type": "code",
   "execution_count": 14,
   "id": "581621b2",
   "metadata": {},
   "outputs": [
    {
     "name": "stdout",
     "output_type": "stream",
     "text": [
      "root\n",
      " |-- score1: double (nullable = true)\n",
      " |-- score2: double (nullable = true)\n",
      " |-- result: integer (nullable = true)\n",
      " |-- features: vector (nullable = true)\n",
      " |-- label: double (nullable = false)\n",
      "\n"
     ]
    }
   ],
   "source": [
    "from pyspark.ml.feature import StringIndexer\n",
    "indexer = StringIndexer()\\\n",
    "  .setInputCol(\"result\")\\\n",
    "  .setOutputCol(\"label\")\n",
    "labelDf = indexer.fit(featureDf).transform(featureDf)\n",
    "labelDf.printSchema()"
   ]
  },
  {
   "cell_type": "code",
   "execution_count": 17,
   "id": "c746662b",
   "metadata": {},
   "outputs": [],
   "source": [
    "from pyspark.ml.classification import LogisticRegression\n",
    "\n",
    "training, testing = labelDf.randomSplit([0.7, 0.3], seed = 5043)\n",
    "\n",
    "lr = LogisticRegression(maxIter=100, regParam=0.02, elasticNetParam=0.8)\n",
    "\n",
    "# Fit the model\n",
    "lrModel = lr.fit(training)"
   ]
  },
  {
   "cell_type": "code",
   "execution_count": 18,
   "id": "3b12a556",
   "metadata": {},
   "outputs": [
    {
     "data": {
      "text/plain": [
       "[Row(score1=33.91550010906887, score2=98.86943574220611, result=0, features=DenseVector([33.9155, 98.8694]), label=1.0, rawPrediction=DenseVector([0.6579, -0.6579]), probability=DenseVector([0.6588, 0.3412]), prediction=0.0),\n",
       " Row(score1=35.84740876993872, score2=72.90219802708364, result=0, features=DenseVector([35.8474, 72.9022]), label=1.0, rawPrediction=DenseVector([-1.7743, 1.7743]), probability=DenseVector([0.145, 0.855]), prediction=1.0),\n",
       " Row(score1=40.45755098375164, score2=97.53518548909936, result=1, features=DenseVector([40.4576, 97.5352]), label=0.0, rawPrediction=DenseVector([1.2824, -1.2824]), probability=DenseVector([0.7829, 0.2171]), prediction=0.0),\n",
       " Row(score1=42.2617008099817, score2=87.10385094025457, result=1, features=DenseVector([42.2617, 87.1039]), label=0.0, rawPrediction=DenseVector([0.4249, -0.4249]), probability=DenseVector([0.6046, 0.3954]), prediction=0.0),\n",
       " Row(score1=44.66826172480893, score2=66.45008614558913, result=0, features=DenseVector([44.6683, 66.4501]), label=1.0, rawPrediction=DenseVector([-1.4085, 1.4085]), probability=DenseVector([0.1965, 0.8035]), prediction=1.0),\n",
       " Row(score1=45.08327747668339, score2=56.3163717815305, result=0, features=DenseVector([45.0833, 56.3164]), label=1.0, rawPrediction=DenseVector([-2.3971, 2.3971]), probability=DenseVector([0.0834, 0.9166]), prediction=1.0),\n",
       " Row(score1=49.07256321908844, score2=51.88321182073966, result=0, features=DenseVector([49.0726, 51.8832]), label=1.0, rawPrediction=DenseVector([-2.3867, 2.3867]), probability=DenseVector([0.0842, 0.9158]), prediction=1.0),\n",
       " Row(score1=52.10797973193984, score2=63.12762376881715, result=0, features=DenseVector([52.108, 63.1276]), label=1.0, rawPrediction=DenseVector([-0.8831, 0.8831]), probability=DenseVector([0.2925, 0.7075]), prediction=1.0),\n",
       " Row(score1=53.9710521485623, score2=89.20735013750205, result=1, features=DenseVector([53.9711, 89.2074]), label=0.0, rawPrediction=DenseVector([2.0021, -2.0021]), probability=DenseVector([0.881, 0.119]), prediction=0.0),\n",
       " Row(score1=57.23870631569862, score2=59.51428198012956, result=1, features=DenseVector([57.2387, 59.5143]), label=0.0, rawPrediction=DenseVector([-0.6561, 0.6561]), probability=DenseVector([0.3416, 0.6584]), prediction=1.0)]"
      ]
     },
     "execution_count": 18,
     "metadata": {},
     "output_type": "execute_result"
    },
    {
     "name": "stderr",
     "output_type": "stream",
     "text": [
      "22/06/01 23:39:54 WARN HeartbeatReceiver: Removing executor driver with no recent heartbeats: 1721560 ms exceeds timeout 120000 ms\n",
      "22/06/01 23:39:54 WARN SparkContext: Killing executors is not supported by current scheduler.\n"
     ]
    }
   ],
   "source": [
    "predictionDf = lrModel.transform(testing)\n",
    "predictionDf.take(10)"
   ]
  }
 ],
 "metadata": {
  "kernelspec": {
   "display_name": "Python 3 (ipykernel)",
   "language": "python",
   "name": "python3"
  },
  "language_info": {
   "codemirror_mode": {
    "name": "ipython",
    "version": 3
   },
   "file_extension": ".py",
   "mimetype": "text/x-python",
   "name": "python",
   "nbconvert_exporter": "python",
   "pygments_lexer": "ipython3",
   "version": "3.9.6"
  }
 },
 "nbformat": 4,
 "nbformat_minor": 5
}
